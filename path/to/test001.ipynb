import operator
from dataclasses import dataclass

@dataclass
class Person:
    name: str
    age: int

def sort_people(people):
    return sorted(people, key=operator.attrgetter('age'))

# Test the function
people = [
    Person('John', 25),
    Person('Alice', 30),
    Person('Bob', 20)
]

sorted_people = sort_people(people)
print(sorted_people)
