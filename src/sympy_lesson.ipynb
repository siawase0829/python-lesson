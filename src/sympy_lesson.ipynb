{
 "cells": [
  {
   "cell_type": "markdown",
   "metadata": {},
   "source": [
    "sympyについて解説して。\n",
    "\n",
    "---\n",
    "シンボリケル(Sympy)は、Pythonで数値や式を扱うために使用できるライブラリです。数式の計算や、微積分などの高级数学機能に対応しています。\n",
    "\n",
    "### 安心して使える環境\n",
    "\n",
    "Pythonと同様に、Sympyも簡単な構成で実行できます。特定の機能を使用したい場合には、Pythonの解像策を参考に調べることで便利です。\n",
    "\n",
    "### Sympyの基本的な用途\n",
    "1.数値の操作:数値の積や和などの演算を行うために使用される。\n",
    "2.式の評価:式を評価し結果を取得する。\n",
    "3.微積分:微積分を扱うためのライブラリ機能。微積分によって得られる関数の導関数を計算することができます。\n",
    "4.多項式の操作:多項式の因数分解、根の検索などを手軽に実行できる。\n",
    "\n",
    "### Sympyの特徴\n",
    "1.簡単な構成:Pythonと同様にシンプルで便利です。簡単に学べるため、初心者でも使いやすいことにも注意してください。\n",
    "2.機能多度:数式を扱う際には、微積分、多項式の操作など、いろいろな機能があります。\n",
    "\n",
    "[sympy仕様](https://www.sympy.org/en/index.html)\n",
    "\n",
    "---\n"
   ]
  },
  {
   "cell_type": "code",
   "execution_count": 1,
   "metadata": {},
   "outputs": [
    {
     "name": "stdout",
     "output_type": "stream",
     "text": [
      "2*x/(x**2 + y**2)\n",
      "log(x**2 + y**2)\n"
     ]
    }
   ],
   "source": [
    "import sympy as sp\n",
    "import pprint as pp\n",
    "# Define the symbols\n",
    "x, y = sp.symbols('x y')\n",
    "f = sp.log(x**2 + y**2)\n",
    "res=sp.diff(f, x)\n",
    "print(res)\n",
    "print(sp.integrate(res, x))\n"
   ]
  },
  {
   "cell_type": "code",
   "execution_count": 2,
   "metadata": {},
   "outputs": [
    {
     "name": "stdout",
     "output_type": "stream",
     "text": [
      "Matrix([[2*x, 2*y]])\n",
      "Matrix([[2*x, 1], [y, x]])\n",
      "-sin(x)\n",
      "Matrix([[1], [2], [3]])\n",
      "Matrix([[4, 5, 6], [7, 8, 9]])\n",
      "Matrix([\n",
      "[1],\n",
      "[2],\n",
      "[3]])\n",
      "Matrix([\n",
      "[4, 5, 6],\n",
      "[7, 8, 9]])\n"
     ]
    },
    {
     "data": {
      "text/latex": [
       "$\\displaystyle \\left[\\begin{matrix}1\\\\2\\\\3\\end{matrix}\\right]$"
      ],
      "text/plain": [
       "Matrix([\n",
       "[1],\n",
       "[2],\n",
       "[3]])"
      ]
     },
     "metadata": {},
     "output_type": "display_data"
    },
    {
     "data": {
      "text/latex": [
       "$\\displaystyle \\left[\\begin{matrix}4 & 5 & 6\\\\7 & 8 & 9\\end{matrix}\\right]$"
      ],
      "text/plain": [
       "Matrix([\n",
       "[4, 5, 6],\n",
       "[7, 8, 9]])"
      ]
     },
     "metadata": {},
     "output_type": "display_data"
    },
    {
     "data": {
      "text/latex": [
       "$\\displaystyle \\left[\\begin{matrix}1 & 2 & 3\\end{matrix}\\right]$"
      ],
      "text/plain": [
       "Matrix([[1, 2, 3]])"
      ]
     },
     "metadata": {},
     "output_type": "display_data"
    },
    {
     "data": {
      "text/latex": [
       "$\\displaystyle \\left[\\begin{matrix}1 & 2 & 3\\\\4 & 5 & 6\\end{matrix}\\right]$"
      ],
      "text/plain": [
       "Matrix([\n",
       "[1, 2, 3],\n",
       "[4, 5, 6]])"
      ]
     },
     "metadata": {},
     "output_type": "display_data"
    },
    {
     "data": {
      "text/latex": [
       "$\\displaystyle \\left[\\begin{matrix}1 & 4\\\\2 & 5\\\\3 & 6\\end{matrix}\\right]$"
      ],
      "text/plain": [
       "Matrix([\n",
       "[1, 4],\n",
       "[2, 5],\n",
       "[3, 6]])"
      ]
     },
     "metadata": {},
     "output_type": "display_data"
    },
    {
     "data": {
      "text/latex": [
       "$\\displaystyle \\left[\\begin{matrix}0 & - c_{3} & c_{2}\\\\c_{3} & 0 & - c_{1}\\\\- c_{2} & c_{1} & 0\\end{matrix}\\right]$"
      ],
      "text/plain": [
       "Matrix([\n",
       "[  0, -c3,  c2],\n",
       "[ c3,   0, -c1],\n",
       "[-c2,  c1,   0]])"
      ]
     },
     "metadata": {},
     "output_type": "display_data"
    },
    {
     "data": {
      "text/latex": [
       "$\\displaystyle \\left[\\begin{matrix}c_{2}^{2} + c_{3}^{2} & - c_{1} c_{2} & - c_{1} c_{3}\\\\- c_{1} c_{2} & c_{1}^{2} + c_{3}^{2} & - c_{2} c_{3}\\\\- c_{1} c_{3} & - c_{2} c_{3} & c_{1}^{2} + c_{2}^{2}\\end{matrix}\\right]$"
      ],
      "text/plain": [
       "Matrix([\n",
       "[c2**2 + c3**2,        -c1*c2,        -c1*c3],\n",
       "[       -c1*c2, c1**2 + c3**2,        -c2*c3],\n",
       "[       -c1*c3,        -c2*c3, c1**2 + c2**2]])"
      ]
     },
     "metadata": {},
     "output_type": "display_data"
    }
   ],
   "source": [
    "\n",
    "from sympy import symbols, Matrix,sin, init_printing\n",
    "import numpy as np\n",
    "import matplotlib.pyplot as plt\n",
    "import pprint as pp\n",
    "# Define the symbols\n",
    "x, y = symbols('x y')\n",
    "\n",
    "# Define the function\n",
    "f = x**2 + y**2\n",
    "\n",
    "# Compute the gradient\n",
    "grad_f = Matrix([f]).jacobian([x, y])\n",
    "print(grad_f)\n",
    "\n",
    "# ベクトル関数（f1, f2）の定義\n",
    "f = Matrix([x**2 + y, x * y])\n",
    "\n",
    "# ヤコビアン行列の計算\n",
    "J = f.jacobian([x, y])\n",
    "\n",
    "print(J)\n",
    "\n",
    "y = sin(x).diff(x).diff(x)\n",
    "print(y)\n",
    "\n",
    "\n",
    "# ベクトルの定義\n",
    "v1 = Matrix([1, 2, 3])\n",
    "v2 = Matrix([[4, 5, 6],[7, 8, 9]])\n",
    "#v2 = Matrix([4, 5, 6])\n",
    "\n",
    "print(v1)\n",
    "print(v2)\n",
    "\n",
    "pp.pprint(v1)\n",
    "pp.pprint(v2)\n",
    "\n",
    "display(v1)\n",
    "display(v2) \n",
    "\n",
    "v = Matrix([[1, 2, 3]])\n",
    "display(v)\n",
    "\n",
    "# 行列の定義\n",
    "A = Matrix([[1, 2, 3], [4, 5, 6]])\n",
    "display(A)\n",
    "# 転置\n",
    "A_T = A.T  \n",
    "\n",
    "display(A_T)\n",
    "\n",
    "c1,c2,c3 = symbols('c1 c2 c3')\n",
    "# ベクトルの定義\n",
    "v = Matrix([[0, -c3, c2],[c3,0,-c1],[-c2,c1,0]])\n",
    "display(v)\n",
    "display(v * v.T)\n"
   ]
  },
  {
   "cell_type": "code",
   "execution_count": 3,
   "metadata": {},
   "outputs": [
    {
     "data": {
      "text/latex": [
       "$\\displaystyle 1 + 2 i + 3 j + 4 k$"
      ],
      "text/plain": [
       "1 + 2*i + 3*j + 4*k"
      ]
     },
     "metadata": {},
     "output_type": "display_data"
    },
    {
     "data": {
      "text/plain": [
       "'加算:'"
      ]
     },
     "metadata": {},
     "output_type": "display_data"
    },
    {
     "data": {
      "text/latex": [
       "$\\displaystyle 6 + 8 i + 10 j + 12 k$"
      ],
      "text/plain": [
       "6 + 8*i + 10*j + 12*k"
      ]
     },
     "metadata": {},
     "output_type": "display_data"
    },
    {
     "data": {
      "text/plain": [
       "'減算:'"
      ]
     },
     "metadata": {},
     "output_type": "display_data"
    },
    {
     "data": {
      "text/latex": [
       "$\\displaystyle \\left(-4\\right) + \\left(-4\\right) i + \\left(-4\\right) j + \\left(-4\\right) k$"
      ],
      "text/plain": [
       "(-4) + (-4)*i + (-4)*j + (-4)*k"
      ]
     },
     "metadata": {},
     "output_type": "display_data"
    },
    {
     "data": {
      "text/plain": [
       "'answer=30'"
      ]
     },
     "metadata": {},
     "output_type": "display_data"
    },
    {
     "data": {
      "text/plain": [
       "56"
      ]
     },
     "execution_count": 3,
     "metadata": {},
     "output_type": "execute_result"
    }
   ],
   "source": [
    "from sympy.algebras.quaternion import Quaternion\n",
    "\n",
    "# クオータニオン q = a + bi + cj + dk を定義\n",
    "q = Quaternion(1, 2, 3, 4)\n",
    "\n",
    "display(q)\n",
    "\n",
    "q1 = Quaternion(1, 2, 3, 4)\n",
    "q2 = Quaternion(5, 6, 7, 8)\n",
    "\n",
    "# 四元数の加算・減算\n",
    "q_sum = q1 + q2\n",
    "q_diff = q1 - q2\n",
    "\n",
    "display(\"加算:\", q_sum)\n",
    "display(\"減算:\", q_diff)\n",
    "\n",
    "\n",
    "theta = sp.pi / 2  # 90度\n",
    "rotation_q = Quaternion(sp.cos(theta/2), sp.sin(theta/2), 0, 0)  # X軸回転\n",
    "\n",
    "v3 = Quaternion(0, 1, 1, 1)   \n",
    "v3_r = rotation_q * v3 *  rotation_q.conjugate()\n",
    "\n",
    "display(f'answer={5*6}')   \n",
    " \n",
    "#display(rotation_q)\n",
    "7*8"
   ]
  },
  {
   "cell_type": "code",
   "execution_count": 4,
   "metadata": {},
   "outputs": [
    {
     "data": {
      "image/png": "[encoded data removed]",
      "text/plain": [
       "<Figure size 640x480 with 1 Axes>"
      ]
     },
     "metadata": {},
     "output_type": "display_data"
    },
    {
     "data": {
      "text/plain": [
       "<sympy.plotting.backends.matplotlibbackend.matplotlib.MatplotlibBackend at 0x11a4d47d0>"
      ]
     },
     "execution_count": 4,
     "metadata": {},
     "output_type": "execute_result"
    }
   ],
   "source": [
    "from sympy.plotting import plot\n",
    "from sympy import sin, symbols, pi \n",
    "x=symbols('x') \n",
    "\n",
    "plot(sin(x), (x, -pi, pi), adaptive=True, line_color=lambda a: sin(a))"
   ]
  },
  {
   "cell_type": "code",
   "execution_count": 5,
   "metadata": {},
   "outputs": [
    {
     "name": "stdout",
     "output_type": "stream",
     "text": [
      "ラプラス逆変換: exp(-t)*Heaviside(t)\n"
     ]
    }
   ],
   "source": [
    "from sympy import symbols, inverse_laplace_transform, exp\n",
    "\n",
    "# シンボル変数の定義\n",
    "t, s = symbols('t s')\n",
    "\n",
    "# ラプラス変換された関数\n",
    "F = 1 / (s + 1)\n",
    "\n",
    "# ラプラス逆変換を計算\n",
    "f_t = inverse_laplace_transform(F, s, t)\n",
    "\n",
    "print(\"ラプラス逆変換:\", f_t)"
   ]
  },
  {
   "cell_type": "code",
   "execution_count": 6,
   "metadata": {},
   "outputs": [
    {
     "name": "stdout",
     "output_type": "stream",
     "text": [
      "行列式: 5*w**2 + 10*w*y - 20*w*z - 5*x**2 + 20*x*y - 10*x*z - 15*y**2 + 15*z**2\n"
     ]
    }
   ],
   "source": [
    "from sympy import symbols, Matrix\n",
    "\n",
    "# 4×4の行列を定義\n",
    "x, y, z, w = symbols('x y z w')\n",
    "C = Matrix([\n",
    "    [x, y, z, w],\n",
    "    [1, 2, 3, 4],\n",
    "    [4, 3, 2, 1],\n",
    "    [w, z, y, x]\n",
    "])\n",
    "\n",
    "# 行列式を計算\n",
    "det_C = C.det()\n",
    "print(\"行列式:\", det_C)"
   ]
  },
  {
   "cell_type": "code",
   "execution_count": 7,
   "metadata": {},
   "outputs": [
    {
     "name": "stdout",
     "output_type": "stream",
     "text": [
      "2*x + 3\n",
      "7\n",
      "[ 3.1010101   3.2020202   3.4040404   3.60606061  3.80808081  4.01010101\n",
      "  4.21212121  4.41414141  4.61616162  4.81818182  5.02020202  5.22222222\n",
      "  5.42424242  5.62626263  5.82828283  6.03030303  6.23232323  6.43434343\n",
      "  6.63636364  6.83838384  7.04040404  7.24242424  7.44444444  7.64646465\n",
      "  7.84848485  8.05050505  8.25252525  8.45454545  8.65656566  8.85858586\n",
      "  9.06060606  9.26262626  9.46464646  9.66666667  9.86868687 10.07070707\n",
      " 10.27272727 10.47474747 10.67676768 10.87878788 11.08080808 11.28282828\n",
      " 11.48484848 11.68686869 11.88888889 12.09090909 12.29292929 12.49494949\n",
      " 12.6969697  12.8989899  13.1010101  13.3030303  13.50505051 13.70707071\n",
      " 13.90909091 14.11111111 14.31313131 14.51515152 14.71717172 14.91919192\n",
      " 15.12121212 15.32323232 15.52525253 15.72727273 15.92929293 16.13131313\n",
      " 16.33333333 16.53535354 16.73737374 16.93939394 17.14141414 17.34343434\n",
      " 17.54545455 17.74747475 17.94949495 18.15151515 18.35353535 18.55555556\n",
      " 18.75757576 18.95959596 19.16161616 19.36363636 19.56565657 19.76767677\n",
      " 19.96969697 20.17171717 20.37373737 20.57575758 20.77777778 20.97979798\n",
      " 21.18181818 21.38383838 21.58585859 21.78787879 21.98989899 22.19191919\n",
      " 22.39393939 22.5959596  22.7979798  22.8989899 ]\n"
     ]
    }
   ],
   "source": [
    "from sympy import symbols, diff\n",
    "\n",
    "x = symbols('x')\n",
    "f = x**2 + 3*x + 2\n",
    "\n",
    "df = diff(f, x)\n",
    "print(df)  # f'(x) を記号的に求める\n",
    "print(df.subs(x, 2))  # x=2 での微分値を計算\n",
    "\n",
    "import numpy as np\n",
    "\n",
    "x = np.linspace(0, 10, 100)\n",
    "y = x**2 + 3*x + 2\n",
    "\n",
    "dy_dx = np.gradient(y, x)  # x に対する微分\n",
    "\n",
    "print(dy_dx[:])  # 最初の5個の値を表示"
   ]
  }
 ],
 "metadata": {
  "kernelspec": {
   "display_name": "base",
   "language": "python",
   "name": "python3"
  },
  "language_info": {
   "codemirror_mode": {
    "name": "ipython",
    "version": 3
   },
   "file_extension": ".py",
   "mimetype": "text/x-python",
   "name": "python",
   "nbconvert_exporter": "python",
   "pygments_lexer": "ipython3",
   "version": "3.12.2"
  },
  "widgets": {
   "application/vnd.jupyter.widget-state+json": {
    "state": {},
    "version_major": 2,
    "version_minor": 0
   }
  }
 },
 "nbformat": 4,
 "nbformat_minor": 4
}
