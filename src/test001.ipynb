{
 "cells": [
  {
   "cell_type": "markdown",
   "metadata": {},
   "source": [
    "## これから実践レシピを勉強していくぞ！！\n",
    "---\n",
    "```python\n",
    "def Hello():\n",
    "    print(\"Hello\")\n",
    "```\n",
    "\n"
   ]
  },
  {
   "cell_type": "code",
   "execution_count": null,
   "metadata": {},
   "outputs": [],
   "source": []
  },
  {
   "cell_type": "code",
   "execution_count": 1,
   "metadata": {},
   "outputs": [
    {
     "ename": "ZeroDivisionError",
     "evalue": "division by zero",
     "output_type": "error",
     "traceback": [
      "\u001b[0;31m---------------------------------------------------------------------------\u001b[0m",
      "\u001b[0;31mZeroDivisionError\u001b[0m                         Traceback (most recent call last)",
      "Cell \u001b[0;32mIn[1], line 1\u001b[0m\n\u001b[0;32m----> 1\u001b[0m \u001b[38;5;241;43m1\u001b[39;49m\u001b[38;5;241;43m/\u001b[39;49m\u001b[38;5;241;43m0\u001b[39;49m\n",
      "\u001b[0;31mZeroDivisionError\u001b[0m: division by zero"
     ]
    }
   ],
   "source": [
    "1/0"
   ]
  },
  {
   "cell_type": "code",
   "execution_count": 1,
   "metadata": {},
   "outputs": [
    {
     "name": "stdout",
     "output_type": "stream",
     "text": [
      "unsupported operand type(s) for /: 'int' and 'str' error\n",
      "型が違います\n",
      "Finally\n"
     ]
    }
   ],
   "source": [
    "try:\n",
    "    num = 1/'2'\n",
    "except ZeroDivisionError as e:\n",
    "    print(f'{e} error')\n",
    "    print('0で割ることはできません')\n",
    "except TypeError as e:\n",
    "    print(f'{e} error')\n",
    "    print('型が違います')\n",
    "finally:\n",
    "    print('Finally')\n"
   ]
  },
  {
   "cell_type": "code",
   "execution_count": 4,
   "metadata": {},
   "outputs": [
    {
     "name": "stdout",
     "output_type": "stream",
     "text": [
      "正常終了　num =0.5\n",
      "Finally\n"
     ]
    }
   ],
   "source": [
    "try:\n",
    "    num = 1/2\n",
    "except (ZeroDivisionError,TypeError) as e: #　複数の例外をまとめて処理\n",
    "    print(f'{e} error')\n",
    "else: #　例外が発生しなかった場合の処理\n",
    "    print(f'正常終了　num ={num}')\n",
    "    \n",
    "finally: #　例外の有無にかかわらず実行\n",
    "    print('Finally')"
   ]
  },
  {
   "cell_type": "code",
   "execution_count": 7,
   "metadata": {},
   "outputs": [
    {
     "name": "stdout",
     "output_type": "stream",
     "text": [
      "division by zero error\n",
      "Exception class <class 'ZeroDivisionError'>\n",
      "Finally\n"
     ]
    }
   ],
   "source": [
    "try:\n",
    "    num = 1/0\n",
    "except ArithmeticError as e: #　複数の例外をまとめて処理\n",
    "    print(f'{e} error')\n",
    "    print(f'Exception class {type(e)}')\n",
    "else: #　例外が発生しなかった場合の処理\n",
    "    print(f'正常終了　num ={num}')\n",
    "    \n",
    "finally: #　例外の有無にかかわらず実行\n",
    "    print('Finally')"
   ]
  },
  {
   "cell_type": "code",
   "execution_count": 6,
   "metadata": {},
   "outputs": [
    {
     "name": "stdout",
     "output_type": "stream",
     "text": [
      "error occured 原因不明のerror\n",
      "原因不明のerror\n"
     ]
    }
   ],
   "source": [
    "class MyError(Exception):\n",
    "    def __init__(self,value):\n",
    "        self.value =  value\n",
    "        self.title = f'{self.value} occured'\n",
    "        self.detail = f'原因不明の{self.value}'\n",
    "    def __str__(self):\n",
    "        return str(self.title)  + ' ' + str(self.detail)\n",
    "\n",
    "try:\n",
    "    raise MyError('error')\n",
    "except MyError as e:\n",
    "    \n",
    "    print(e)\n",
    "    print(e.detail)"
   ]
  },
  {
   "cell_type": "code",
   "execution_count": 7,
   "metadata": {},
   "outputs": [
    {
     "name": "stdout",
     "output_type": "stream",
     "text": [
      "[<class 'Exception'>, <class 'BaseException'>, <class 'object'>]\n"
     ]
    }
   ],
   "source": [
    "print(Exception.mro())\n"
   ]
  },
  {
   "cell_type": "code",
   "execution_count": 8,
   "metadata": {},
   "outputs": [
    {
     "name": "stdout",
     "output_type": "stream",
     "text": [
      "入力 = 11\n"
     ]
    }
   ],
   "source": [
    "innum = input('数値を入力してください')\n",
    "print(f'入力 = {innum}')"
   ]
  },
  {
   "cell_type": "code",
   "execution_count": 9,
   "metadata": {},
   "outputs": [
    {
     "name": "stdout",
     "output_type": "stream",
     "text": [
      "True\n",
      "True\n",
      "bbbbbbbbbbbbbbbbbbbbbbbbbbbbbbbbbbbbb\n",
      "bbbbbbbbbbbbbbbbbbbbbbbbbbbbbbbbbbbbb\n",
      "bbbbbbbbbbbbbbbbbbbbbbbbbbbbbbbbbbbbb\n",
      "bbbbbbbbbbbbbbbbbbbbbbbbbbbbbbbbbbbbb\n",
      "bbbbbbbbbbbbbbbbbbbbbbbbbbbbbbbbbbbbb\n",
      "bbbbbbbbbbbbbbbbbbbbbbbbbbbbbbbbbbbbb\n",
      "bbbbbbbbbbbbbbbbbbbbbbbbbbbbbbbbbbbbb\n",
      "bbbbbbbbbbbbbbbbbbbbbbbbbbbbbbbbbbbbb\n",
      "bbbbbbbbbbbbbbbbbbbbbbbbbbbbbbbbbbbbb\n",
      "bbbbbbbbbbbbbbbbbbbbbbbbbbbbbbbbbbbbb\n",
      "bbbbbbbbbbbbbbbbbbbbbbbbbbbbbbbbbbbbb\n",
      "bbbbbbbbbbbbbbbbbbbbbbbbbbbbbbbbbbbbb\n",
      "bbbbbbbbbbbbbbbbbbbbbbbbbbbbbbbbbbbbb\n",
      "bbbbbbbbbbbbbbbbbbbbbbbbbbbbbbbbbbbbb\n",
      "bbbbbbbbbbbbbbbbbbbbbbbbbbbbbbbbbbbbb\n",
      "bbbbbbbbbbbbbbbbbbbbbbbbbbbbbbbbbbbbb\n",
      "bbbbbbbbbbbbbbbbbbbbbbbbbbbbbbbbbbbbb\n",
      "bbbbbbbbbbbbbbbbbbbbbbbbbbbbbbbbbbbbb\n",
      "bbbbbbbbbbbbbbbbbbbbbbbbbbbbbbbbbbbbb\n",
      "bbbbbbbbbbbbbbbbbbbbbbbbbbbbbbbbbbbbb\n",
      "bbbbbbbbbbbbbbbbbbbbbbbbbbbbbbbbbbbbb"
     ]
    }
   ],
   "source": [
    "with open('data.txt',mode='r') as f:\n",
    "    print('__enter__' in dir(f))\n",
    "    print('__exit__' in dir(f))\n",
    "    data = f.readlines()\n",
    "    for s in data:\n",
    "        print(s,end='')\n",
    "    "
   ]
  },
  {
   "cell_type": "code",
   "execution_count": 3,
   "metadata": {},
   "outputs": [
    {
     "name": "stdout",
     "output_type": "stream",
     "text": [
      "\n",
      "Hello Python\n",
      "Hello Python\n",
      "Hello Python\n",
      "Hello Python\n",
      "Hello Python\n",
      "Hello Python\n",
      "Hello Python\n",
      "\n"
     ]
    }
   ],
   "source": [
    "file = open(\"python.txt\", \"r\")  # コンテキストマネージャを取得\n",
    "\n",
    "try:\n",
    "    # __enter__がファイルオブジェクトを返す\n",
    "    file_obj = file.__enter__()\n",
    "    # コンテキスト内のコードを実行\n",
    "    data = file_obj.read()\n",
    "    print(data)\n",
    "except Exception as e:\n",
    "    # __exit__で例外を処理\n",
    "    file.__exit__(type(e), e, e.__traceback__)\n",
    "    raise\n",
    "else:\n",
    "    # 例外が発生しなかった場合も __exit__ を呼び出す\n",
    "    file.__exit__(None, None, None)"
   ]
  },
  {
   "cell_type": "code",
   "execution_count": 28,
   "metadata": {},
   "outputs": [
    {
     "name": "stdout",
     "output_type": "stream",
     "text": [
      "\n",
      "Hello Python\n",
      "Hello Python\n",
      "Hello Python\n",
      "Hello Python\n",
      "Hello Python\n",
      "Hello Python\n",
      "Hello Python\n",
      "\n",
      "ファイルを閉じました\n"
     ]
    }
   ],
   "source": [
    "import contextlib\n",
    "\n",
    "@contextlib.contextmanager\n",
    "def open_file(name, mode):\n",
    "    f = open(name, mode)\n",
    "    try:\n",
    "        yield f\n",
    "    finally:\n",
    "        print('ファイルを閉じました')\n",
    "        f.close()\n",
    "\n",
    "with open_file('python.txt', 'r') as f:\n",
    "    data = f.read()\n",
    "    print(data)\n"
   ]
  },
  {
   "cell_type": "code",
   "execution_count": 4,
   "metadata": {},
   "outputs": [],
   "source": [
    "import contextlib\n",
    "import os\n",
    "\n",
    "with contextlib.suppress(FileNotFoundError):\n",
    "    os.remove('pythonxx.txt') # ファイルが存在しない場合は例外を無視\n",
    "    \n",
    "    "
   ]
  },
  {
   "cell_type": "code",
   "execution_count": 6,
   "metadata": {},
   "outputs": [],
   "source": [
    "with open('sample.txt', 'w') as f:\n",
    "    with contextlib.redirect_stdout(f):\n",
    "        print('Hello Python')"
   ]
  },
  {
   "cell_type": "code",
   "execution_count": 2,
   "metadata": {},
   "outputs": [
    {
     "name": "stdout",
     "output_type": "stream",
     "text": [
      "3,2,1\n"
     ]
    }
   ],
   "source": [
    "def sample_func(param1,param2,param3):\n",
    "    print(f'{param1},{param2},{param3}') # SyntaxError: invalid syntax\n",
    "\n",
    "sample_func(param3=1,param2=2,param1=3)\n",
    "\n"
   ]
  },
  {
   "cell_type": "code",
   "execution_count": 3,
   "metadata": {},
   "outputs": [
    {
     "name": "stdout",
     "output_type": "stream",
     "text": [
      "name='Koji Aratake'\n",
      "age=67\n"
     ]
    }
   ],
   "source": [
    "name='Koji Aratake'\n",
    "age=67\n",
    "print(f'{name=}\\n{age=}')"
   ]
  },
  {
   "cell_type": "code",
   "execution_count": null,
   "metadata": {},
   "outputs": [],
   "source": [
    "print(\"Hello world\")\n",
    "print(\"Hello world\")"
   ]
  }
 ],
 "metadata": {
  "kernelspec": {
   "display_name": "base",
   "language": "python",
   "name": "python3"
  },
  "language_info": {
   "codemirror_mode": {
    "name": "ipython",
    "version": 3
   },
   "file_extension": ".py",
   "mimetype": "text/x-python",
   "name": "python",
   "nbconvert_exporter": "python",
   "pygments_lexer": "ipython3",
   "version": "3.12.7"
  }
 },
 "nbformat": 4,
 "nbformat_minor": 4
}
