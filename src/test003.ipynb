{
 "cells": [
  {
   "cell_type": "code",
   "execution_count": 3,
   "metadata": {},
   "outputs": [
    {
     "name": "stdout",
     "output_type": "stream",
     "text": [
      "Matrix([\n",
      "[a, b],\n",
      "[c, a]])\n",
      "Matrix([\n",
      "[a**2/(a**2 - b*c) - b*c/(a**2 - b*c),                                    0],\n",
      "[                                   0, a**2/(a**2 - b*c) - b*c/(a**2 - b*c)]])\n",
      "Matrix([\n",
      "[a**2/(a**2 - b*c) - b*c/(a**2 - b*c),                                    0],\n",
      "[                                   0, a**2/(a**2 - b*c) - b*c/(a**2 - b*c)]])\n",
      "Matrix([\n",
      "[a**2/(a**2 - b*c) - b*c/(a**2 - b*c),                                    0],\n",
      "[                                   0, a**2/(a**2 - b*c) - b*c/(a**2 - b*c)]])\n",
      "0\n",
      "1\n",
      "4\n",
      "9\n",
      "16\n",
      "25\n",
      "36\n",
      "49\n",
      "64\n",
      "81\n"
     ]
    }
   ],
   "source": [
    "# This Python code snippet is using the SymPy library to perform symbolic matrix operations. Here's a\n",
    "# breakdown of what the code is doing:\n",
    "# `from sympy import symbols, Matrix` is importing the `symbols` and `Matrix` classes from the SymPy\n",
    "# library. The `symbols` function is used to create symbolic variables, while the `Matrix` class is\n",
    "# used to define matrices and perform matrix operations in a symbolic way.\n",
    "from sympy import symbols, Matrix\n",
    "import pprint\n",
    "\n",
    "# Define symbols for the elements of the matrix A\n",
    "a, b, c = symbols(\"a b c\")\n",
    "A = Matrix([[a, b], [c, a]])\n",
    "B = A.inv()  #\n",
    "pprint.pprint(A)\n",
    "pprint.pprint(A * B)\n",
    "pprint.pprint(B * A)\n",
    "\n",
    "pprint.pprint(A * B)\n",
    "for i in map(lambda x: x**2, range(10)):\n",
    "    print(i)\n",
    "\n"
   ]
  }
 ],
 "metadata": {
  "kernelspec": {
   "display_name": "base",
   "language": "python",
   "name": "python3"
  },
  "language_info": {
   "codemirror_mode": {
    "name": "ipython",
    "version": 3
   },
   "file_extension": ".py",
   "mimetype": "text/x-python",
   "name": "python",
   "nbconvert_exporter": "python",
   "pygments_lexer": "ipython3",
   "version": "3.12.8"
  }
 },
 "nbformat": 4,
 "nbformat_minor": 2
}
